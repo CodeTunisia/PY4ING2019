{
 "cells": [
  {
   "cell_type": "markdown",
   "metadata": {},
   "source": [
    "<!-- dom:TITLE: Apprenez à développer des applications de bureau avec Python and Qt -->\n",
    "# Apprenez à développer des applications de bureau avec Python and Qt\n",
    "<!-- dom:AUTHOR: Ahmed Ammar Email:ahmed.ammar@fst.utm.tn at Faculté des Sciences de Tunis, Université de Tunis El Manar. -->\n",
    "<!-- Author: -->  \n",
    "**Ahmed Ammar** (email: `ahmed.ammar@fst.utm.tn`), Faculté des Sciences de Tunis, Université de Tunis El Manar.\n",
    "\n",
    "Date: **Feb 16, 2019**\n",
    "\n",
    "Copyright 2019, Ahmed Ammar. Released under CC Attribution 4.0 license\n",
    "\n",
    "\n",
    "\n",
    "\n",
    "\n",
    "\n",
    "\n",
    "\n",
    "# Introduction\n",
    "Dans ce chapitre, nous allons passer à la création d’applications graphiques. De telles applications permettent de modifier l'apparence d'un programme en utilisant des **éléments de contrôle** tels que des **widgets**, des **boutons**, des **curseurs**, etc.\n",
    "\n",
    "**PyQt5** (<https://www.riverbankcomputing.com/software/pyqt/intro>) est une boîte à outils de widgets d' interface graphique (en anglais **GUI** pour *Graphical User Interface*) combinant le langage de programmation Python et le logiciel **Qt5** (<https://www.qt.io>). PyQt5 est une bibliothèque d'interface graphique populaire qui présente de nombreux avantages par rapport aux autres bibliothèques d'interface graphique telles que *Tkinter* et *wx*. Ceux-ci inclus:\n",
    "\n",
    "* Bibliothèque d'interface graphique multi-plateforme (Windows, MacOS, Linux).\n",
    "\n",
    "* Bonne performance.\n",
    "\n",
    "* Prise en charge des styles personnalisés.\n",
    "\n",
    "* Plus de bibliothèques pour la conception d'interface graphique complexe.\n",
    "\n",
    "* Facilité d'utilisation.\n",
    "\n",
    "# Premières étapes pour la création d'une application graphique à l'aide de PyQt5\n",
    "\n",
    "## Importation de PyQt5 et création d'une \"fenêtre PyQt5\"\n",
    "\n",
    "Passons directement à l'action et apprenons à créer une fenêtre simple avec PyQt5. Premièrement, nous devrons importer certains modules essentiels à l’exécution d’une interface graphique avec PyQt5. Nous commençons par **importer** quelques sous-modules de PyQt5."
   ]
  },
  {
   "cell_type": "markdown",
   "metadata": {},
   "source": [
    "```Python\n",
    "        from PyQt5.QtWidgets import QApplication, QWidget\n",
    "```"
   ]
  },
  {
   "cell_type": "markdown",
   "metadata": {},
   "source": [
    "**Notice.**\n",
    "\n",
    "`QtWidgets` est l'un des nombreux composants de PyQt5. Certains des plus couramment utilisés sont énumérés ci-dessous:\n",
    "* `QtWidgets`: Contient des classes qui fournissent un ensemble d'éléments pour créer une interface graphique classique de type bureau.\n",
    "\n",
    "* `QtCore`: Ce module contient les classes principales, y compris la boucle d'événement et les mécanismes `signal` et `slot` de Qt.\n",
    "\n",
    "* `QtGui`: Celui-ci contient des classes pour l’intégration du système de fenêtrage, la gestion des événements, les graphiques 2D, les images de base, les polices et le texte.\n",
    "\n",
    "* `QtDesigner`: Ce module contient des classes permettant l'extension de *Qt Designer* à l'aide de PyQt5.\n",
    "\n",
    "* `uic`: Ce module contient des classes permettant de gérer les fichiers **.ui** créés par Qt Designer décrivant l’ensemble ou une partie d’une interface graphique.\n",
    "\n",
    "* etc.\n",
    "\n",
    "\n",
    "Ensuite, nous importons le module `sys` car nous voulons accéder aux arguments de ligne de commande. Ceux-ci sont contenus dans la liste `sys.argv"
   ]
  },
  {
   "cell_type": "markdown",
   "metadata": {},
   "source": [
    "```Python\n",
    "        import sys\n",
    "        app = QApplication(sys.argv)\n",
    "```"
   ]
  },
  {
   "cell_type": "markdown",
   "metadata": {},
   "source": [
    "En utilisant les arguments de ligne de commande contenus dans `sys.argv`, nous devrions créer un objet `QApplication`. Dans l'exemple ci-dessus, nous avons enregistré cet objet sous le nom **app**. Ceci est l'objet *exécuté* lorsque nous exécutons à l'invite de commande la commande `python filename.py` où **filename.py** est le fichier dans lequel les instructions sont stockées. Cet objet contiendra tous les éléments de l'interface graphique et leurs méthodes. Par conséquent, lorsque cet objet est créé et *exécuté*, nous avons accès à toutes les interfaces graphiques utilisées dans le programme. Les éléments de l'interface graphique sont hérités de la classe `QWidgets`. Nous obtenons donc un objet `QWidget` comme indiqué ci-dessous."
   ]
  },
  {
   "cell_type": "markdown",
   "metadata": {},
   "source": [
    "```Python\n",
    "        window = QWidget()\n",
    "```"
   ]
  },
  {
   "cell_type": "markdown",
   "metadata": {},
   "source": [
    "En utilisant les nombreuses méthodes *set*, nous pouvons définir les valeurs des différents attributs de cet objet *window*. Nous allons d’abord définir les dimensions de la fenêtre en utilisant la méthode `setGeometry`. Il prend quatre paramètres: **x** coordonnée du point le plus à gauche de l'objet (*window*), **y** coordonnée du point le plus haut, **la largeur** et **la hauteur** de la fenêtre, dans cet ordre. Toutes ces valeurs doivent être des entiers référencés par rapport aux coordonnées d'écran natives. Par exemple, nous pourrions écrire:"
   ]
  },
  {
   "cell_type": "markdown",
   "metadata": {},
   "source": [
    "```Python\n",
    "        window.setGeometry(400, 100, 300, 200)\n",
    "```"
   ]
  },
  {
   "cell_type": "markdown",
   "metadata": {},
   "source": [
    "Cela définirait la fenêtre avec une largeur de 300 pixels et une hauteur de 200 pixels à 400 pixels du côté gauche et à 100 pixels du haut de l'écran natif (écran de votre ordinateur).\n",
    "\n",
    "Nous pouvons définir un titre pour la fenêtre. Par exemple:"
   ]
  },
  {
   "cell_type": "markdown",
   "metadata": {},
   "source": [
    "```Python\n",
    "        window.setWindowTitle('My first app')\n",
    "```"
   ]
  },
  {
   "cell_type": "markdown",
   "metadata": {},
   "source": [
    "afficherait *My first app* dans la barre de titre de la fenêtre.\n",
    "\n",
    "Une fois que nous sommes satisfaits de l'interface graphique que nous avons construite, nous appelons:"
   ]
  },
  {
   "cell_type": "markdown",
   "metadata": {},
   "source": [
    "```Python\n",
    "        window.show()\n",
    "```"
   ]
  },
  {
   "cell_type": "markdown",
   "metadata": {},
   "source": [
    "pour afficher l'objet graphique dans *l'application* que nous avons créée. Cependant, l'application n'est toujours pas exécutée. Pour exécuter l'application, nous exécutons la commande:"
   ]
  },
  {
   "cell_type": "markdown",
   "metadata": {},
   "source": [
    "```Python\n",
    "        app.exec()\n",
    "```"
   ]
  },
  {
   "cell_type": "markdown",
   "metadata": {},
   "source": [
    "La méthode `.show ()` est une méthode QT qui ouvre la fenêtre à l'écran pour l'utilisateur.\n",
    "\n",
    "Enfin, pour assurer une fermeture agréable et propre de l'application lorsque nous quittons:"
   ]
  },
  {
   "cell_type": "markdown",
   "metadata": {},
   "source": [
    "```Python\n",
    "        sys.exit(app.exec_())\n",
    "```"
   ]
  },
  {
   "cell_type": "markdown",
   "metadata": {},
   "source": [
    "Le code complet de cette application est donné ci-dessous et le résultat est illustré à la [Figure](#fig:myfirstapp). Le code peut être stocké dans un fichier, par exemple **myfirstapp.py**, puis lorsque vous exécutez la commande `python MyFirstApp.py` à l'invite de commande (ou dans Spyder), vous obtenez la fenêtre de sortie affichée."
   ]
  },
  {
   "cell_type": "code",
   "execution_count": 1,
   "metadata": {
    "collapsed": false
   },
   "outputs": [],
   "source": [
    "# NOM DU FICHIER: myfirstapp.py\n",
    "#% IMPORTATION\n",
    "from PyQt5.QtWidgets import QApplication, QWidget\n",
    "import sys\n",
    "# créer un objet QApplication\n",
    "app = QApplication(sys.argv)\n",
    "# appeler la classe QWidgets\n",
    "window = QWidget()\n",
    "# définir les dimensions de la fenêtre\n",
    "window.setGeometry(400, 100, 300, 200)\n",
    "# définir un titre pour la fenêtre\n",
    "window.setWindowTitle('My first app')\n",
    "# afficher l'objet graphique dans l'application\n",
    "window.show()\n",
    "# fermer l'application\n",
    "sys.exit(app.exec_())"
   ]
  },
  {
   "cell_type": "markdown",
   "metadata": {},
   "source": [
    "<!-- dom:FIGURE: [imgs/myfirstapp.png, width=300 frac=0.7] Une fenêtre PyQt5 créée par le code `myfirstapp.py` et également par le code `myfirstappStructure.py`. <div id=\"fig:myfirstapp\"></div> -->\n",
    "<!-- begin figure -->\n",
    "<div id=\"fig:myfirstapp\"></div>\n",
    "\n",
    "<p>Une fenêtre PyQt5 créée par le code <code>myfirstapp.py</code> et également par le code <code>myfirstappStructure.py</code>.</p>\n",
    "<img src=\"imgs/myfirstapp.png\" width=300>\n",
    "\n",
    "<!-- end figure -->\n",
    "\n",
    "\n",
    "## Structure d'application PyQT\n",
    "Les étapes suivantes (dont certaines ont déjà été utilisées dans l'exemple ci-dessus) aideront à créer une structure solide et propre pour toute application développée avec PyQt:\n",
    "\n",
    "1. Importer les modules nécessaires.\n",
    "\n",
    "2. Créer une classe héritée de `QMainWindow` (à l'aide de la construction `class MainWindow(QMainWindow):`). La `QMainWindow` est une classe Qt qui fournit une fenêtre principale de l’application avec toutes les options (telle que la barre de menus, la barre d’état, etc.).\n",
    "\n",
    "3. Implémentez le **constructeur** (également appelé **l'initialiseur**) de la classe en utilisant la méthode `__init __ ()`. Chaque fois qu'un objet d'une classe est créé, cette méthode sera exécutée. L'initialiseur commence généralement par un appel à l'initialiseur de la classe `super ()`; Ainsi, toutes les méthodes définies dans la classe parent sont immédiatement disponibles, même si elles sont remplacées dans la définition de classe actuelle.\n",
    "\n",
    "4. Cette opération est ensuite suivie par la définition des valeurs (par défaut) pour divers attributs, tels que la géométrie, le titre, etc., et la définition des différentes méthodes.\n",
    "\n",
    "5. Enfin, utiliser la construction `if __name__ == \"__main __\":` à la fin pour créer un objet `QApplication` et l'exécuter.\n",
    "\n",
    "La fenêtre illustrée à la [Figure](#fig:myfirstapp) peut également être créée à l'aide des étapes décrites ci-dessus. Le code permettant de faire cela est donné dans le script **myfirstappStructure.py**. Dans une fenêtre d'invite de commande, exécutez la commande `python myfirstappStructure.py` (ou exécutez le script sur Spyder), où **myfirstappStructure.py** est le nom du fichier contenant le code permettant d'afficher la fenêtre illustrée à la [Figure](#fig:myfirstapp)."
   ]
  },
  {
   "cell_type": "code",
   "execution_count": 2,
   "metadata": {
    "collapsed": false
   },
   "outputs": [],
   "source": [
    "# NOM DU FICHIER: myfirstappStructure.py\n",
    "#% IMPORTATION\n",
    "from PyQt5.QtWidgets import QApplication, QMainWindow\n",
    "\n",
    "class MainWindow(QMainWindow):\n",
    "    '''\n",
    "    DOCUMENTATION\n",
    "    -------------\n",
    "    Créer une fenêtre (300x200 pixels)\n",
    "    '''\n",
    "    def __init__(self):\n",
    "        '''\n",
    "        INITIALISEUR \n",
    "        ------------\n",
    "        La classe `MainWindow()` rendre une fenêtre (300x200 pixels) \n",
    "        avec un titre 'My first app'.\n",
    "        '''\n",
    "        super(MainWindow, self).__init__()\n",
    "        # Propriétés de l'interface graphique\n",
    "        self.setGeometry(400, 100, 300, 200)\n",
    "        self.setWindowTitle('My first app')\n",
    "\n",
    "if __name__ == \"__main__\":\n",
    "    import sys\n",
    "    app = QApplication(sys.argv)\n",
    "    MyApplication = MainWindow()\n",
    "    MyApplication.show()\n",
    "    sys.exit(app.exec_())"
   ]
  }
 ],
 "metadata": {},
 "nbformat": 4,
 "nbformat_minor": 2
}
