{
 "cells": [
  {
   "cell_type": "markdown",
   "metadata": {},
   "source": [
    "<!-- dom:TITLE: Introduction à Python pour les ingénieurs -->\n",
    "# Introduction à Python pour les ingénieurs\n",
    "<!-- dom:AUTHOR: Ahmed Ammar Email:ahmed.ammar@fst.utm.tn at Faculté des Sciences de Tunis, Université de Tunis El Manar. -->\n",
    "<!-- Author: -->  \n",
    "**Ahmed Ammar** (email: `ahmed.ammar@fst.utm.tn`), Faculté des Sciences de Tunis, Université de Tunis El Manar.\n",
    "\n",
    "Date: **Feb 7, 2019**\n",
    "\n",
    "Copyright 2019, Ahmed Ammar. Released under CC Attribution 4.0 license\n",
    "\n",
    "\n",
    "\n",
    "\n",
    "\n",
    "\n",
    "\n",
    "\n",
    "# Introduction\n",
    "\n",
    "Python (<http://www.python.org/>) est un langage de programmation moderne de haut niveau, orienté objet et d'usage général.\n",
    "\n",
    "**Caractéristiques générales de Python** :\n",
    "\n",
    "* Langage simple:\n",
    "\n",
    "  * facile à lire et à apprendre avec une syntaxe minimaliste.\n",
    "\n",
    "\n",
    "* Langage concis et expressif:\n",
    "\n",
    "  * moins de lignes de code\n",
    "\n",
    "  * moins de bugs\n",
    "\n",
    "  * plus facile à maintenir.\n",
    "\n",
    "\n",
    "**Détails techniques** :\n",
    "\n",
    "* Typé dynamiquement:\n",
    "\n",
    "  * Pas besoin de définir le type des variables, les arguments ou le type des fonctions.\n",
    "\n",
    "\n",
    "* La gestion automatique de la mémoire:\n",
    "\n",
    "  * Aucune nécessité d'allouer explicitement et désallouer la mémoire pour les variables et les tableaux de données. Aucun bug de fuite de mémoire.\n",
    "\n",
    "\n",
    "* Interprété:\n",
    "\n",
    "  * Pas besoin de compiler le code. L'interpréteur Python lit et exécute le code python directement.\n",
    "\n",
    "\n",
    "**Avantages** :\n",
    "\n",
    "* Le principal avantage est la facilité de programmation, qui minimise le temps nécessaire pour développer, déboguer et maintenir le code.\n",
    "\n",
    "* Langage bien conçu qui encourage les bonnes pratiques de programmation:\n",
    "\n",
    "  * Modulaire et orientée objet, permet l'encapsulation  et la réutilisation de code. Il en résulte souvent un code plus transparent, plus facile à améliorer et sans bug.\n",
    "\n",
    "  * Documentation intégré avec le code.\n",
    "\n",
    "\n",
    "* De nombreuses bibliothèques standards, et de nombreux packages add-on.\n",
    "\n",
    "# Avoir Python installé sur sa machine\n",
    "L’installation d’un environnement Python complet peut-être une vraie galère. Déjà, il faut télécharger Python et l’installer. Par la suite, télécharger un à un les packages dont on a besoin. Parfois, le nombre de ces librairies peut-être grand.\n",
    "\n",
    "Par ailleurs, il faut s’assurer L’installation d’un environnement Python complet peut-être une vraie galère. Déjà, il faut télécharger Python et l’installer. Par la suite, télécharger un à un les packages dont on a besoin. Parfois, le nombre de ces librairies peut-être grand.\n",
    "\n",
    "Par ailleurs, il faut s’assurer de la compatibilité entre les versions des différentes packages qu’on a à télécharger.\n",
    "\n",
    "Bref, ce n’est pas amusant!\n",
    "\n",
    "\n",
    "## Distribution Anaconda\n",
    "Nous demandons à tous les étudiants de télécharger Anaconda. Pour cela, il faut télécharger un installeur à partir de <https://www.anaconda.com/download/>, correspondant à votre système d’exploitation (Windows, Mac OS X, Linux). Il faut choisir entre 32 bits ou 64 bits (pour la version *Python 3*) selon que votre système d’exploitation est 32 bits ou 64 bits.\n",
    "\n",
    "## Comment démarrer le navigateur Anaconda?\n",
    "Lorsque vous installez **Anaconda** sous Windows, Linux ou macOS, une icône est automatiquement ajoutée au menu de votre programme et/ou à votre bureau pour lancer **Anaconda Navigator**.\n",
    "Vous pouvez également lancer Anaconda Navigator à partir d'une invite de commande Windows ou d'un terminal ubuntu  à l'aide de la commande suivante:"
   ]
  },
  {
   "cell_type": "markdown",
   "metadata": {},
   "source": [
    "        $ anaconda-navigator\n"
   ]
  },
  {
   "cell_type": "markdown",
   "metadata": {},
   "source": [
    "Différentes distributions Linux telles que *CentOS* ou *Ubuntu* ont de nombreux systèmes permettant d’ajouter des raccourcis aux menus et au bureau. Anaconda n’ajoute donc pas ces raccourcis automatiquement. À la place, vous pouvez utiliser votre système d'exploitation pour créer des raccourcis qui exécutent la commande `anaconda-navigator` sur le bureau ou dans le menu principal du système d'exploitation, ou les deux.\n",
    "\n",
    "<!-- dom:FIGURE: [imgs/AnacondaNavigator.png, width=600 frac=0.7] Interface graphique du navigateur Anaconda sous Windows -->\n",
    "<!-- begin figure -->\n",
    "\n",
    "<p>Interface graphique du navigateur Anaconda sous Windows</p>\n",
    "<img src=\"imgs/AnacondaNavigator.png\" width=600>\n",
    "\n",
    "<!-- end figure -->\n",
    "\n",
    "\n",
    "Anaconda installe plusieurs exécutables pour développer en Python dans le répertoire *anaconda/bin*, sans toujours créer des raccourcis sur le bureau ou dans un menu. Vous pouvez lancer **Spyder** ou le notebook **Jupyter** depuis le navigateur Anaconda.\n",
    "\n",
    "## Spyder\n",
    "Pour le développement de programmes en langage Python, des applications spéciales appelées IDE (Integrated Development Environment) peuvent être utilisées. Les IDE les plus avancés ont des éditeurs, des consoles, des outils pour organiser des suites de programmes et de bibliothèques, un correcteur orthographique (spell-checking) et une complétion automatiques (auto-completion) pour les scripts partiellement écrits (ces outils connaissent la syntaxe du langage de programmation) et des outils de débogage.\n",
    "\n",
    "Utiliser un bon éditeur pour programmer en Python est bon. Utiliser un vrai IDE est encore plus confortable et puissant. **Spyder** (Scientific PYthon Development EnviRonment) semble actuellement très répandu pour l’utilisation scientifique de Python.\n",
    "\n",
    "Spyder est un environnement de développement interactif gratuit inclus avec Anaconda. Il comprend des fonctionnalités d'édition, de test interactif, de débogage et d'introspection.\n",
    "\n",
    "Après avoir installé Anaconda, vous pouvez démarrer Spyder sur macOS, Linux ou Windows en ouvrant une fenêtre de terminal (Ubuntu/macOS) ou d'invite de commande (Windows) et en exécutant la commande `spyder`.\n",
    "\n",
    "<!-- dom:FIGURE: [imgs/SpyderIDE.png, width=600 frac=0.7] Spyder sous Windows. -->\n",
    "<!-- begin figure -->\n",
    "\n",
    "<p>Spyder sous Windows.</p>\n",
    "<img src=\"imgs/SpyderIDE.png\" width=600>\n",
    "\n",
    "<!-- end figure -->\n",
    "\n",
    "\n",
    "# Bibliothèques Python largement utilisées\n",
    "## Bibliothèque numérique: `numpy`\n",
    "**numpy** (<http://www.numpy.org>): Tous les codes numériques Python actuels sont basés sur la bibliothèque `numpy`. La bibliothèque `numpy` fournit des structures de données permettant de représenter une grande variété de tableaux, ainsi que des méthodes et des fonctions permettant de fonctionner sur de tels tableaux. `numpy` fournit le *back-end* numérique pour presque toutes les bibliothèques scientifiques ou techniques de Python. C'est donc une partie très importante de l'écosystème scientifique Python.\n",
    "\n",
    "### Création de tableaux numpy\n",
    "\n",
    "Il existe un certain nombre de façons d’initialiser de nouveaux tableaux numpy, par exemple à partir de:\n",
    "\n",
    "* liste ou tuple Python.\n",
    "\n",
    "* en utilisant des fonctions dédiées à la génération de tableaux numpy, tels que `arange`, `linspace`, etc.\n",
    "\n",
    "* lire des données à partir de fichiers.\n",
    "\n",
    "Par exemple, pour créer de nouveaux tableaux de vecteurs et matrices à partir de listes Python, nous pouvons utiliser la fonction `numpy.array`."
   ]
  },
  {
   "cell_type": "code",
   "execution_count": 1,
   "metadata": {
    "collapsed": false
   },
   "outputs": [],
   "source": [
    "from numpy import array # importation\n",
    "v = array([1,2,3,4]) # un vecteur: l'argument de la fonction array est une liste Python"
   ]
  },
  {
   "cell_type": "code",
   "execution_count": 2,
   "metadata": {
    "collapsed": false
   },
   "outputs": [],
   "source": [
    "M = array([[1, 2], [3, 4]])  # une matrice: l'argument de la fonction array est une liste Python imbriquée"
   ]
  },
  {
   "cell_type": "markdown",
   "metadata": {},
   "source": [
    "Les objets `v` et `M` sont, les deux, du type `ndarray` fourni par le module `numpy`.\n",
    "Nous pouvons vérifier ça par un simple code:"
   ]
  },
  {
   "cell_type": "code",
   "execution_count": 3,
   "metadata": {
    "collapsed": false
   },
   "outputs": [],
   "source": [
    "print(\"Le type de v est: \", type(v))"
   ]
  },
  {
   "cell_type": "code",
   "execution_count": 4,
   "metadata": {
    "collapsed": false
   },
   "outputs": [],
   "source": [
    "print(\"Le type de M est: \", type(M))"
   ]
  },
  {
   "cell_type": "markdown",
   "metadata": {},
   "source": [
    "La différence entre les tableaux `v` et `M` réside uniquement dans leurs formes. Nous pouvons obtenir des informations sur la **forme** d'un tableau en utilisant la propriété `ndarray.shape`."
   ]
  },
  {
   "cell_type": "code",
   "execution_count": 5,
   "metadata": {
    "collapsed": false
   },
   "outputs": [],
   "source": [
    "print(\"La forme de v est: \", v.shape)"
   ]
  },
  {
   "cell_type": "code",
   "execution_count": 6,
   "metadata": {
    "collapsed": false
   },
   "outputs": [],
   "source": [
    "print(\"La forme de M est: \", M.shape)"
   ]
  },
  {
   "cell_type": "markdown",
   "metadata": {},
   "source": [
    "### Utilisation de fonctions génératrices de tableaux\n",
    "\n",
    "Pour les tableaux de grande taille, il est pratique d'initialiser les données manuellement, en utilisant des listes pythons explicites. Au lieu de cela, nous pouvons utiliser l’une des nombreuses fonctions de `numpy` qui génère des tableaux de différentes formes.\n",
    "Certains des plus communs sont:\n",
    "\n",
    "* `arange()`\n",
    "\n",
    "* `linspace()` et `logspace()`\n",
    "\n",
    "* `mgrid()` et `meshgrid()`\n",
    "\n",
    "* `diag()`\n",
    "\n",
    "* `zeros()` et `ones()`\n",
    "\n",
    "* etc.\n",
    "\n",
    "**Fonction `arange()` :**"
   ]
  },
  {
   "cell_type": "code",
   "execution_count": 7,
   "metadata": {
    "collapsed": false
   },
   "outputs": [],
   "source": [
    "x = arange(0, 10, 1) # Arguments: start, stop, step"
   ]
  },
  {
   "cell_type": "code",
   "execution_count": 8,
   "metadata": {
    "collapsed": false
   },
   "outputs": [],
   "source": [
    "x = arange(-2, 2, 0.1)"
   ]
  },
  {
   "cell_type": "markdown",
   "metadata": {},
   "source": [
    "**Fonctions `linspace()` et `logspace()`:**\n",
    "\n",
    "En utilisant `linspace`, les deux points finaux sont inclus:"
   ]
  },
  {
   "cell_type": "code",
   "execution_count": 9,
   "metadata": {
    "collapsed": false
   },
   "outputs": [],
   "source": [
    "linspace(0, 10, 20) # linspace(star, stop, Nombre de points)"
   ]
  },
  {
   "cell_type": "code",
   "execution_count": 10,
   "metadata": {
    "collapsed": false
   },
   "outputs": [],
   "source": [
    "logspace(0, 10, 10, base=e)"
   ]
  },
  {
   "cell_type": "markdown",
   "metadata": {},
   "source": [
    "**Fonctions `mgrid()` et `meshgrid()`:**"
   ]
  },
  {
   "cell_type": "code",
   "execution_count": 11,
   "metadata": {
    "collapsed": false
   },
   "outputs": [],
   "source": [
    "x, y = mgrid[0:5, 0:5] # Similaire à meshgrid dans MATLAB"
   ]
  },
  {
   "cell_type": "code",
   "execution_count": 12,
   "metadata": {
    "collapsed": false
   },
   "outputs": [],
   "source": [
    "y"
   ]
  },
  {
   "cell_type": "code",
   "execution_count": 13,
   "metadata": {
    "collapsed": false
   },
   "outputs": [],
   "source": [
    "x, y = meshgrid(linspace(0,2,6),linspace(0,2,6))"
   ]
  },
  {
   "cell_type": "code",
   "execution_count": 14,
   "metadata": {
    "collapsed": false
   },
   "outputs": [],
   "source": [
    "y"
   ]
  },
  {
   "cell_type": "markdown",
   "metadata": {},
   "source": [
    "**Fonctions `rand()`, `randint()`:**\n",
    "\n",
    "Nombres aléatoires uniformes dans [0,1[ dans une matrice (3,2)"
   ]
  },
  {
   "cell_type": "code",
   "execution_count": 15,
   "metadata": {
    "collapsed": false
   },
   "outputs": [],
   "source": [
    "rand(3,2)"
   ]
  },
  {
   "cell_type": "markdown",
   "metadata": {},
   "source": [
    "Générer un tableau 2 x 4 d'entiers compris entre 0 et 4 inclus."
   ]
  },
  {
   "cell_type": "code",
   "execution_count": 16,
   "metadata": {
    "collapsed": false
   },
   "outputs": [],
   "source": [
    "randint(5, size=(2, 4))"
   ]
  },
  {
   "cell_type": "markdown",
   "metadata": {},
   "source": [
    "**Fonction `diag()`:**"
   ]
  },
  {
   "cell_type": "code",
   "execution_count": 17,
   "metadata": {
    "collapsed": false
   },
   "outputs": [],
   "source": [
    "# Une matrice diagonale"
   ]
  },
  {
   "cell_type": "code",
   "execution_count": 18,
   "metadata": {
    "collapsed": false
   },
   "outputs": [],
   "source": [
    "# Diagonale avec décalage de la diagonale principale"
   ]
  },
  {
   "cell_type": "markdown",
   "metadata": {},
   "source": [
    "**Fonctions `zeros()` et `ones()`:**"
   ]
  },
  {
   "cell_type": "code",
   "execution_count": 19,
   "metadata": {
    "collapsed": false
   },
   "outputs": [],
   "source": [
    "zeros((3,3))"
   ]
  },
  {
   "cell_type": "code",
   "execution_count": 20,
   "metadata": {
    "collapsed": false
   },
   "outputs": [],
   "source": [
    "ones((3,3))"
   ]
  },
  {
   "cell_type": "markdown",
   "metadata": {},
   "source": [
    "### Lecture et écriture de données\n",
    "\n",
    "**Écriture de données**\n",
    "\n",
    "Le module `numpy` contient une fonction très pratique, `savetxt`, permettant d’enregistrer des données tabulaires. Les données doivent être stockées dans un tableau numpy à deux dimensions. La fonction `savetxt` permet de contrôler le format des nombres dans chaque colonne (`fmt`), un en-tête peut être ajouté (`header`) et les lignes d'en-tête commencent par un caractère de commentaire (`comment`).\n",
    "\n",
    "**Exemple.**\n",
    "\n",
    "\n",
    "Pour stoker les valeurs de $cos(x)$ avec $x \\in [0, 2 \\pi]$ dans un fichier *cosinus.dat*, le code est comme ci-dessous:"
   ]
  },
  {
   "cell_type": "code",
   "execution_count": 21,
   "metadata": {
    "collapsed": false
   },
   "outputs": [],
   "source": [
    "'''Créer un tableau à deux dimensions de\n",
    "[x, cos (x)] dans chaque ligne'''\n",
    "import numpy as np\n",
    "x = np.linspace(0, 2*np.pi, 200) # 200 valeurs de x\n",
    "# un tableau 2 colonnes 200 lignes\n",
    "data = np.array([x, np.cos(x)]).transpose()\n",
    "\n",
    "# Écrire un tableau de données dans un fichier sous forme de tableau\n",
    "np.savetxt('cosinus.dat', data, fmt=['%.2f', '%.4f'],\n",
    "           header='x   cos(x)', comments='#')"
   ]
  },
  {
   "cell_type": "markdown",
   "metadata": {},
   "source": [
    "Le fichier *cosinus.dat* est créé dans le répertoire de travail:"
   ]
  },
  {
   "cell_type": "markdown",
   "metadata": {},
   "source": [
    "        # x   cos(x)\n",
    "        0.00 1.0000\n",
    "        0.03 0.9995\n",
    "        0.06 0.9980\n",
    "        0.09 0.9955\n",
    "        0.13 0.9920\n",
    "        0.16 0.9876\n",
    "        0.19 0.9821\n",
    "        0.22 0.9757\n",
    "        0.25 0.9683\n",
    "        ...  ......\n",
    "        ...  ......\n"
   ]
  },
  {
   "cell_type": "markdown",
   "metadata": {},
   "source": [
    "**Lecture de données**\n",
    "\n",
    "Les données du fichier *cosinus.dat* peuvent être lues dans un tableau `numpy` par la fonction `loadtxt` (vous pouvez utiliser la commande `help(loadtxt)` dans le notebook pour comprendre l'utilité des arguments entre les parenthèse):"
   ]
  },
  {
   "cell_type": "code",
   "execution_count": 22,
   "metadata": {
    "collapsed": false
   },
   "outputs": [],
   "source": [
    "data = np.loadtxt('cosinus.dat', comments='#')"
   ]
  },
  {
   "cell_type": "markdown",
   "metadata": {},
   "source": [
    "**Notice.**\n",
    "\n",
    "Les lignes commençant par le caractère de commentaire sont ignorées lors de la lecture. L'objet `data` résultant est un tableau à deux dimensions: `data[i, j]` contient le numéro de ligne `i` et le numéro de colonne `j` dans la table, c'est-à-dire que `data[i, 0]` contiennent la valeur `x` et que `data[i, 1]` la valeur `cos(x)` dans la i-ème ligne.\n",
    "\n",
    "\n",
    "\n",
    "Nous pouvons utiliser le fichier *cosinus.dat* pour tracer la fonction $cos(x)$ comme indiqué dans le code suivant:"
   ]
  },
  {
   "cell_type": "code",
   "execution_count": 23,
   "metadata": {
    "collapsed": false
   },
   "outputs": [],
   "source": [
    "%matplotlib inline\n",
    "\n",
    "import numpy as np\n",
    "import matplotlib.pyplot as plt\n",
    "# Charger les données du fichier 'cosinus.dat'\n",
    "X, C = np.loadtxt('cosinus.dat', comments='#', unpack=True)\n",
    "# Tracer C en fonction de X\n",
    "plt.figure(figsize=(8, 5), dpi=100)\n",
    "plt.plot(X,C)\n",
    "plt.savefig(\"fonct_trig4.png\")\n",
    "plt.savefig(\"fonct_trig4.pdf\")\n",
    "plt.show()"
   ]
  },
  {
   "cell_type": "markdown",
   "metadata": {},
   "source": [
    "La sortie de ce code est la [Figure](#figout:trig4).\n",
    "<!-- dom:FIGURE:[imgs/fonct_trig4.png, width=500 frac=0.7] Fonction trigonométrique, $cos(x)$, générée à partir d'un fichier. <div id=\"figout:trig4\"></div> -->\n",
    "<!-- begin figure -->\n",
    "<div id=\"figout:trig4\"></div>\n",
    "\n",
    "<p>Fonction trigonométrique, $cos(x)$, générée à partir d'un fichier.</p>\n",
    "<img src=\"imgs/fonct_trig4.png\" width=500>\n",
    "\n",
    "<!-- end figure -->\n",
    "\n",
    "\n",
    "## Bibliothèque Python de visualisation des données: `matplotlib`\n",
    "`matplotlib` (<http://matplotlib.org/>) est une excellente bibliothèque graphique 2D et 3D pour générer des graphiques scientifiques. Voici quelques-uns des nombreux avantages de cette bibliothèque:\n",
    "\n",
    "* Facile à utiliser\n",
    "\n",
    "* Prise en charge des étiquettes et des textes formatés LaTeX\n",
    "\n",
    "* Un excellent contrôle des éléments d'une figure, y compris la taille et la résolution (DPI).\n",
    "\n",
    "* Sortie de haute qualité dans de nombreux formats, y compris PNG, PDF, SVG, EPS, ...\n",
    "\n",
    "* GUI (Graphical User Interface) pour explorer interactivement les figures.\n",
    "\n",
    "### Documentation en ligne et Galerie\n",
    "\n",
    "Vous trouverez plus d'informations, y compris une documentation complète avec une vaste galerie d'exemples, sur le site de `mtplotlib`.\n",
    "\n",
    "De nombreux utilisateurs de `matplotlib` sont souvent confrontés à la question:\n",
    "> Je veux tracer les courbes de deux fonctions ($f$ te $g$) **ressemblant** à une troisième ($h$)?\n",
    "\n",
    "\n",
    "\n",
    "\n",
    " Je souhaite bonne chance à ceux qui désirent obtenir rapidement une réponse, même avec l'aide de **google**!. C'est pourquoi la **galerie de matplotlib** (<http://matplotlib.org/gallery.html>) est si utile, car elle montre la variété des possibilités. Ainsi, vous pouvez parcourir la galerie, cliquer sur n'importe quel graphique qui comporte les éléments que vous voulez reproduire et afficher le code qui a servi à le générer. Vous deviendrez rapidement autonome, vous allez mélanger et assortir différents composants pour produire votre propre chef-d’œuvre!\n",
    "\n",
    "**Guide de Démarrage**\n",
    "L'exemple ci-dessous montre comment, de manière très simple, représenter graphiquement la fonction $f(x) = y = x$."
   ]
  },
  {
   "cell_type": "code",
   "execution_count": 24,
   "metadata": {
    "collapsed": false
   },
   "outputs": [],
   "source": [
    "# -*- coding: utf-8 -*-\n",
    "# importaion\n",
    "import matplotlib.pyplot as plt\n",
    "# define x\n",
    "x = [1, 3, 5, 6, 8, 10, 15]\n",
    "# define y\n",
    "y=x\n",
    "# créer un nouveau graphique\n",
    "plt.figure()\n",
    "#plot f(x)= x\n",
    "plt.plot(x, y)\n",
    "# Écrire un texte (label) sur l'axe des x\n",
    "plt.xlabel(\"X-Axis\")\n",
    "# Écrire un texte (label) sur l'axe des y\n",
    "plt.ylabel(\"Y-Axis\")\n",
    "#les graphiques ne seront affichés que lorsque vous appelez plt.show ()\n",
    "plt.show()"
   ]
  },
  {
   "cell_type": "markdown",
   "metadata": {},
   "source": [
    "<!-- dom:FIGURE:[imgs/BasicPlot1.png, width=500 frac=0.7] Fenêtre de traçage de matplotlib. <div id=\"fig:BasicPlot1\"></div> -->\n",
    "<!-- begin figure -->\n",
    "<div id=\"fig:BasicPlot1\"></div>\n",
    "\n",
    "<p>Fenêtre de traçage de matplotlib.</p>\n",
    "<img src=\"imgs/BasicPlot1.png\" width=500>\n",
    "\n",
    "<!-- end figure -->\n",
    "\n",
    "\n",
    "Le graphique (`Figure`) est le conteneur de niveau supérieur dans cette hiérarchie. C'est la fenêtre/page globale sur laquelle tout est dessiné.\n",
    "Vous pouvez avoir plusieurs figures indépendantes et les graphiques peuvent contenir plusieurs `Axes`.\n",
    "\n",
    "La plupart des tracés ont lieu sur des `Axes`. C’est effectivement la zone sur laquelle nous traçons les données et les graduations/labels/etc. qui leur sont associés. Habituellement, nous configurons un `Axes` avec un appel à `Subplot` (qui place les `Axes` sur une grille régulière). Par conséquent, dans la plupart des cas, `Axes` et `Subplot` sont synonymes (figure). Chaque `Axes` ou `Subplot` a un axe X et un axe Y. Ceux-ci contiennent les graduations, les emplacements de graduations, etc.\n",
    "\n",
    "**Vues en grille **\n",
    "Nous avons déjà mentionné qu’une figure peut avoir plus d’un axe. Si vous voulez que vos axes soient sur un système de grille standard, il est alors plus simple d'utiliser `plt.subplot(...)` pour créer un graphique et y ajouter les axes automatiquement."
   ]
  },
  {
   "cell_type": "code",
   "execution_count": 25,
   "metadata": {
    "collapsed": false
   },
   "outputs": [],
   "source": [
    "# -*- coding: utf-8 -*-\n",
    "import matplotlib.pyplot as plt\n",
    "fig1=plt.figure(1)                # the first figure\n",
    "ax1=plt.subplot(211)             # the first subplot in the first figure\n",
    "ax1.plot([1, 2, 3])\n",
    "ax2=plt.subplot(212)             # the second subplot in the first figure\n",
    "ax2.plot([4, 5, 6])\n",
    "\n",
    "fig2=plt.figure(2)                # a second figure\n",
    "plt.plot([4, 5, 6])          # creates a subplot(111) by default\n",
    "\n",
    "fig1=plt.figure(1)                # figure 1 current; subplot(212) still current\n",
    "ax1=plt.subplot(211)             # make subplot(211) in figure1 current\n",
    "ax1.set_title('Easy as 1, 2, 3') # subplot 211 title\n",
    "plt.show()"
   ]
  },
  {
   "cell_type": "markdown",
   "metadata": {},
   "source": [
    "<!-- dom:FIGURE:[imgs/subplot1.png, width=500 frac=0.7] Vue en grille, figure(1). <div id=\"fig:subplot1\"></div> -->\n",
    "<!-- begin figure -->\n",
    "<div id=\"fig:subplot1\"></div>\n",
    "\n",
    "<p>Vue en grille, figure(1).</p>\n",
    "<img src=\"imgs/subplot1.png\" width=500>\n",
    "\n",
    "<!-- end figure -->\n",
    "\n",
    "\n",
    "<!-- dom:FIGURE:[imgs/subplot2.png, width=500 frac=0.7] Graphique unique, figure(2). <div id=\"fig:subplot2\"></div> -->\n",
    "<!-- begin figure -->\n",
    "<div id=\"fig:subplot2\"></div>\n",
    "\n",
    "<p>Graphique unique, figure(2).</p>\n",
    "<img src=\"imgs/subplot2.png\" width=500>\n",
    "\n",
    "<!-- end figure -->\n",
    "\n",
    "\n",
    "**Commandes de texte de base**\n",
    "Les commandes suivantes permettent de créer du texte dans l'interface `pyplot`:\n",
    "* `text()` - ajoute du texte à un emplacement quelconque sur les axes; `matplotlib.axes.Axes.text()`.\n",
    "\n",
    "* `xlabel()` - ajoute une étiquette à l'axe des x; `matplotlib.axes.Axes.set_xlabel()`\n",
    "\n",
    "* `ylabel()` - ajoute une étiquette à l'axe des y; `matplotlib.axes.Axes.set_ylabel()`\n",
    "\n",
    "* `title()` - ajoute un titre aux Axes; `matplotlib.axes.Axes.set_title()`\n",
    "\n",
    "* `figtext()` - ajoute du texte à un emplacement quelconque sur la figure; `matplotlib.figure.Figure.text()`\n",
    "\n",
    "* `suptitle()` - ajoute un titre à la figure; `matplotlib.figure.Figure.suptitle()`\n",
    "\n",
    "* `annotate()` - ajoute une annotation, avec une flèche optionnelle, aux axes; `matplotlib.axes.Axes.annotate()`\n",
    "\n",
    "Toutes ces fonctions créent et renvoient une instance `matplotlib.text.Text()`, qui peut être configurée avec diverses polices et autres propriétés. L'exemple ci-dessous montre toutes ces commandes en action."
   ]
  },
  {
   "cell_type": "code",
   "execution_count": 26,
   "metadata": {
    "collapsed": false
   },
   "outputs": [],
   "source": [
    "# -*- coding: utf-8 -*-\n",
    "import matplotlib.pyplot as plt\n",
    "\n",
    "fig = plt.figure()\n",
    "fig.suptitle('bold figure suptitle', fontsize=14, fontweight='bold')\n",
    "\n",
    "ax = fig.add_subplot(111)\n",
    "fig.subplots_adjust(top=0.85)\n",
    "ax.set_title('axes title')\n",
    "\n",
    "ax.set_xlabel('xlabel')\n",
    "ax.set_ylabel('ylabel')\n",
    "\n",
    "ax.text(3, 8, 'boxed italics text in data coords', style='italic',\n",
    "        bbox={'facecolor':'red', 'alpha':0.5, 'pad':10})\n",
    "\n",
    "ax.text(2, 6, r'an equation: $E=mc^2$', fontsize=15)\n",
    "\n",
    "ax.text(3, 2, u'unicode: Institut f\\374r Festk\\366rperphysik')\n",
    "\n",
    "ax.text(0.95, 0.01, 'colored text in axes coords',\n",
    "        verticalalignment='bottom', horizontalalignment='right',\n",
    "        transform=ax.transAxes,\n",
    "        color='green', fontsize=15)\n",
    "\n",
    "\n",
    "ax.plot([2], [1], 'o')\n",
    "ax.annotate('annotate', xy=(2, 1), xytext=(3, 4),\n",
    "            arrowprops=dict(facecolor='black', shrink=0.05))\n",
    "\n",
    "ax.axis([0, 10, 0, 10])\n",
    "\n",
    "plt.show()"
   ]
  },
  {
   "cell_type": "markdown",
   "metadata": {},
   "source": [
    "<!-- dom:FIGURE:[imgs/BasicText.png, width=500 frac=0.7] Texte de base. <div id=\"fig:BasicText\"></div> -->\n",
    "<!-- begin figure -->\n",
    "<div id=\"fig:BasicText\"></div>\n",
    "\n",
    "<p>Texte de base.</p>\n",
    "<img src=\"imgs/BasicText.png\" width=500>\n",
    "\n",
    "<!-- end figure -->\n",
    "\n",
    "\n",
    "**Styles de lignes et de marqueurs**\n",
    "Pour changer la largeur de ligne, nous pouvons utiliser l'argument de mot-clé `linewidth` ou `lw`, et le style de ligne peut être sélectionné à l'aide des arguments de mot-clé `linestyle` ou `ls`:"
   ]
  },
  {
   "cell_type": "code",
   "execution_count": 27,
   "metadata": {
    "collapsed": false
   },
   "outputs": [],
   "source": [
    "# -*- coding: utf-8 -*-\n",
    "import matplotlib.pyplot as plt\n",
    "import numpy as np\n",
    "x = np.linspace(0, 5, 10)\n",
    "fig, ax = plt.subplots()\n",
    "\n",
    "ax.plot(x, x+1, color=\"blue\", linewidth=0.25)\n",
    "ax.plot(x, x+2, color=\"blue\", linewidth=0.50)\n",
    "ax.plot(x, x+3, color=\"blue\", linewidth=1.00)\n",
    "ax.plot(x, x+4, color=\"blue\", linewidth=2.00)\n",
    "\n",
    "# possible linestype options '-', '-.', ':', 'steps'\n",
    "ax.plot(x, x+5, color=\"red\", lw=2, linestyle='-')\n",
    "ax.plot(x, x+6, color=\"red\", lw=2, ls='-.')\n",
    "ax.plot(x, x+7, color=\"red\", lw=2, ls=':')\n",
    "\n",
    "# custom dash\n",
    "line, = ax.plot(x, x+8, color=\"black\", lw=1.50)\n",
    "line.set_dashes([5, 10, 15, 10]) # format: line length, space length, ...\n",
    "\n",
    "# possible marker symbols: marker = '+', 'o', '*', 's', ',', '.', '1', '2', '3', '4', ...\n",
    "ax.plot(x, x+ 9, color=\"green\", lw=2, ls='-.', marker='+')\n",
    "ax.plot(x, x+10, color=\"green\", lw=2, ls='-.', marker='o')\n",
    "ax.plot(x, x+11, color=\"green\", lw=2, ls='-.', marker='s')\n",
    "ax.plot(x, x+12, color=\"green\", lw=2, ls='-.', marker='1')\n",
    "\n",
    "# marker size and color\n",
    "ax.plot(x, x+13, color=\"purple\", lw=1, ls='-', marker='o', markersize=2)\n",
    "ax.plot(x, x+14, color=\"purple\", lw=1, ls='-', marker='o', markersize=4)\n",
    "ax.plot(x, x+15, color=\"purple\", lw=1, ls='-', marker='o', markersize=8, markerfacecolor=\"red\")\n",
    "ax.plot(x, x+16, color=\"purple\", lw=1, ls='-', marker='s', markersize=8, \n",
    "        markerfacecolor=\"yellow\", markeredgewidth=2, markeredgecolor=\"blue\")\n",
    "# make a title for the subplot\n",
    "ax.set_title('\"ax.plot(x, y, ...)\": Lines and/or markers', fontsize=16, weight='bold')\n",
    "# make x and y axis label and set their font size and weight\n",
    "ax.set_xlabel(\"X-Axis\", fontsize=12, weight='bold')\n",
    "ax.set_ylabel(\"Y-Axis\", fontsize=12, weight='bold')\n",
    "plt.show()"
   ]
  },
  {
   "cell_type": "markdown",
   "metadata": {},
   "source": [
    "<!-- dom:FIGURE:[imgs/LineandMarkerStyles.png, width=500 frac=0.7] Styles de lignes et de marqueurs. <div id=\"fig:LineandMarkerStyles\"></div> -->\n",
    "<!-- begin figure -->\n",
    "<div id=\"fig:LineandMarkerStyles\"></div>\n",
    "\n",
    "<p>Styles de lignes et de marqueurs.</p>\n",
    "<img src=\"imgs/LineandMarkerStyles.png\" width=500>\n",
    "\n",
    "<!-- end figure -->\n",
    "\n",
    "\n",
    "**Colormap: Tracés contour, Imshow et 33D**\n",
    "\n",
    "\n",
    "Voir la documentation de matplotlib colormaps <http://matplotlib.org/users/colormaps.html>.\n",
    "\n",
    " * **Tracés contour :**"
   ]
  },
  {
   "cell_type": "code",
   "execution_count": 28,
   "metadata": {
    "collapsed": false
   },
   "outputs": [],
   "source": [
    "# -*- coding: utf-8 -*-\n",
    "import numpy as np\n",
    "import matplotlib.pyplot as plt\n",
    "\n",
    "def f(x,y):\n",
    "    return (1 - x / 2 + x**5 + y**3) * np.exp(-x**2 -y**2)\n",
    "\n",
    "n = 256\n",
    "x = np.linspace(-3, 3, n)\n",
    "y = np.linspace(-3, 3, n)\n",
    "X,Y = np.meshgrid(x, y)\n",
    "\n",
    "plt.axes([0.025, 0.025, 0.95, 0.95])\n",
    "\n",
    "plt.contourf(X, Y, f(X, Y), 8, alpha=.75, cmap=plt.cm.gray)\n",
    "C = plt.contour(X, Y, f(X, Y), 8, colors='black', linewidth=.5)\n",
    "plt.clabel(C, inline=1, fontsize=10)\n",
    "\n",
    "plt.xticks(())\n",
    "plt.yticks(())\n",
    "plt.show()"
   ]
  },
  {
   "cell_type": "markdown",
   "metadata": {},
   "source": [
    "<!-- dom:FIGURE:[imgs/ContourPlot.png, width=500 frac=0.7] Exemple de tracé de contour. <div id=\"fig:ContourPlot\"></div> -->\n",
    "<!-- begin figure -->\n",
    "<div id=\"fig:ContourPlot\"></div>\n",
    "\n",
    "<p>Exemple de tracé de contour.</p>\n",
    "<img src=\"imgs/ContourPlot.png\" width=500>\n",
    "\n",
    "<!-- end figure -->\n",
    "\n",
    "\n",
    "* **Imshow (Image pixelisée) :**"
   ]
  },
  {
   "cell_type": "code",
   "execution_count": 29,
   "metadata": {
    "collapsed": false
   },
   "outputs": [],
   "source": [
    "# -*- coding: utf-8 -*-\n",
    "import numpy as np\n",
    "import matplotlib.pyplot as plt\n",
    "\n",
    "def f(x, y):\n",
    "    return (1 - x / 2 + x ** 5 + y ** 3 ) * np.exp(-x ** 2 - y ** 2)\n",
    "\n",
    "n = 10\n",
    "x = np.linspace(-3, 3, 3.5 * n)\n",
    "y = np.linspace(-3, 3, 3.0 * n)\n",
    "X, Y = np.meshgrid(x, y)\n",
    "Z = f(X, Y)\n",
    "\n",
    "plt.axes([0.025, 0.025, 0.95, 0.95])\n",
    "plt.imshow(Z, interpolation='nearest', cmap='gray', origin='lower')\n",
    "plt.colorbar(shrink=.92)\n",
    "\n",
    "plt.xticks(())\n",
    "plt.yticks(())\n",
    "plt.show()"
   ]
  },
  {
   "cell_type": "markdown",
   "metadata": {},
   "source": [
    "<!-- dom:FIGURE:[imgs/Imshow.png, width=500 frac=0.7] Exemple d'image pixelisée. <div id=\"fig:CImshow\"></div> -->\n",
    "<!-- begin figure -->\n",
    "<div id=\"fig:CImshow\"></div>\n",
    "\n",
    "<p>Exemple d'image pixelisée.</p>\n",
    "<img src=\"imgs/Imshow.png\" width=500>\n",
    "\n",
    "<!-- end figure -->\n",
    "\n",
    "\n",
    "* **Tracé en 3D :**"
   ]
  },
  {
   "cell_type": "code",
   "execution_count": 30,
   "metadata": {
    "collapsed": false
   },
   "outputs": [],
   "source": [
    "# -*- coding: utf-8 -*-\n",
    "import numpy as np\n",
    "import matplotlib.pyplot as plt\n",
    "from mpl_toolkits.mplot3d import Axes3D\n",
    "\n",
    "fig = plt.figure()\n",
    "ax = Axes3D(fig)\n",
    "X = np.arange(-4, 4, 0.25)\n",
    "Y = np.arange(-4, 4, 0.25)\n",
    "X, Y = np.meshgrid(X, Y)\n",
    "R = np.sqrt(X ** 2 + Y ** 2)\n",
    "Z = np.sin(R)\n",
    "\n",
    "ax.plot_surface(X, Y, Z, rstride=1, cstride=1, cmap=plt.cm.gray)\n",
    "ax.contourf(X, Y, Z, zdir='z', offset=-2, cmap=plt.cm.gray)\n",
    "ax.set_zlim(-2, 2)\n",
    "\n",
    "plt.show()"
   ]
  },
  {
   "cell_type": "markdown",
   "metadata": {},
   "source": [
    "<!-- dom:FIGURE:[imgs/Plot3D.png, width=500 frac=0.7] Exemple de tracé en 3D. <div id=\"fig:3D\"></div> -->\n",
    "<!-- begin figure -->\n",
    "<div id=\"fig:3D\"></div>\n",
    "\n",
    "<p>Exemple de tracé en 3D.</p>\n",
    "<img src=\"imgs/Plot3D.png\" width=500>\n",
    "\n",
    "<!-- end figure -->\n",
    "\n",
    "\n",
    "## Bibliothèque scientifique python: `scipy`\n",
    "`scipy` (<https://www.scipy.org/>\"): `scipy` peut être considéré comme une extension de `numpy` avec un grand nombre de modules optimisés pour des calculs scientifiques spécifiques. `scipy` est la plate-forme la plus importante de Python pour le calcul scientifique. La communauté de `scipy` est un groupe bien établi et en pleine croissance de scientifiques, d’ingénieurs et de chercheurs qui utilisent, développent et promeuvent l’utilisation de Python pour le calcul scientifique, la recherche et l’éducation.\n",
    "\n",
    "### Fonctions spéciales\n",
    "\n",
    "Un grand nombre de fonctions mathématiques spéciales sont importantes pour de nombreux problèmes de physique informatique. SciPy fournit des implémentations d'un ensemble très complet de fonctions spéciales. Pour plus de détails, voir la liste des fonctions dans la documentation de référence à <http://docs.scipy.org/doc/scipy/reference/special.html#module-scipy.special>.\n",
    "\n",
    "**Fonctions de Bessel**\n",
    "\n",
    "Le module `scipy.special` inclut un grand nombre de fonctions de Bessel. Ici, nous allons utiliser les fonctions `jn` et `yn`, qui sont les fonctions de Bessel des premier et deuxième ordres de type et de valeurs réelles. Nous incluons également la fonction `jn_zeros` et `yn_zeros` qui donne les zéros des fonctions `jn` et `yn`."
   ]
  },
  {
   "cell_type": "code",
   "execution_count": 31,
   "metadata": {
    "collapsed": false
   },
   "outputs": [],
   "source": [
    "# -*- coding: utf-8 -*-\n",
    "from scipy.special import jn, yn, jn_zeros, yn_zeros\n",
    "import matplotlib.pyplot as plt\n",
    "import numpy as np\n",
    "\n",
    "n = 0    # order\n",
    "x = 0.0\n",
    "\n",
    "# Bessel function of first kind\n",
    "print (\"J_%d(%f) = %f\" % (n, x, jn(n, x)))\n",
    "\n",
    "x = 1.0\n",
    "# Bessel function of second kind\n",
    "print (\"Y_%d(%f) = %f\" % (n, x, yn(n, x)))\n",
    "\n",
    "# zeros of Bessel functions\n",
    "n = 0 # order\n",
    "m = 4 # number of roots to compute\n",
    "print(\"zeros of Bessel functions are: \", jn_zeros(n, m))\n",
    "\n",
    "# Plot Bessel fonctions\n",
    "x = np.linspace(0, 10, 50)\n",
    "\n",
    "markers=['o', 's', '*', '+']\n",
    "lines=['-', '--', '-.', ':']\n",
    "\n",
    "fig, ax = plt.subplots()\n",
    "for n in range(4):\n",
    "    ax.plot(x, jn(n, x),ls=str(lines[n]),marker=str(markers[n]), label=r\"$J_%d(x)$\" % n)\n",
    "ax.legend()\n",
    "plt.show()"
   ]
  },
  {
   "cell_type": "markdown",
   "metadata": {},
   "source": [
    "Ce code retournera:"
   ]
  },
  {
   "cell_type": "markdown",
   "metadata": {},
   "source": [
    "        J_0(0.000000) = 1.000000\n",
    "        Y_0(1.000000) = 0.088257\n",
    "        zeros of Bessel functions are:  [  2.40482556   5.52007811   8.65372791  11.79153444]\n"
   ]
  },
  {
   "cell_type": "markdown",
   "metadata": {},
   "source": [
    "et le tracé:\n",
    "\n",
    "<!-- dom:FIGURE:[imgs/Bessel.png, width=500 frac=0.7] Fonctions de Bessel. <div id=\"fig:Bessel\"></div> -->\n",
    "<!-- begin figure -->\n",
    "<div id=\"fig:Bessel\"></div>\n",
    "\n",
    "<p>Fonctions de Bessel.</p>\n",
    "<img src=\"imgs/Bessel.png\" width=500>\n",
    "\n",
    "<!-- end figure -->\n",
    "\n",
    "\n",
    "**Intégrales de Fresnel**\n",
    "\n",
    "La fonction `scipy.special.fresnel` renvoie les deux fonctions de Fresnel mais dans l'ordre (FS, FC), où FS représente l'intégrale de sinus de Fresnel et FC, l'intégrale de cosinus de Fresnel. Vous devriez faire attention à ce que vos tracés correspondent à la spirale de Cornu."
   ]
  },
  {
   "cell_type": "code",
   "execution_count": 32,
   "metadata": {
    "collapsed": false
   },
   "outputs": [],
   "source": [
    "# -*- coding: utf-8 -*-\n",
    "from scipy.special import fresnel\n",
    "from scipy import linspace\n",
    "import matplotlib.pyplot as plt\n",
    "t = linspace(-10, 10, 1000)\n",
    "FS, FC = fresnel(t)\n",
    "fig1=plt.figure(figsize=(10,5))\n",
    "ax1=plt.subplot(1, 2, 1)\n",
    "ax1.plot(FC, FS, linewidth=2)\n",
    "ax1.set_xlabel(\"C(t)\", fontsize=14, weight='bold')\n",
    "ax1.set_ylabel(\"S(t)\", fontsize=14, weight='bold')\n",
    "ax1.set_title(\"Cornu spiral\", fontsize=16, weight='bold')\n",
    "\n",
    "ax2=plt.subplot(1, 2, 2) \n",
    "ax2.plot(t, FS, ls='--',linewidth=2,label=\"S(t)\", alpha=.8)\n",
    "ax2.plot(t, FC,ls='-',linewidth=2,label=\"C(t)\", alpha=.8)\n",
    "ax2.set_xlabel(\"t\", fontsize=14, weight='bold')\n",
    "ax2.set_title(\"Fresnel integrals\", fontsize=16, weight='bold')\n",
    "plt.legend()\n",
    "plt.show()"
   ]
  },
  {
   "cell_type": "markdown",
   "metadata": {},
   "source": [
    "<!-- dom:FIGURE:[imgs/Fresnel.png, width=500 frac=0.7] Intégrales de Fresnel. <div id=\"fig:Fresnel\"></div> -->\n",
    "<!-- begin figure -->\n",
    "<div id=\"fig:Fresnel\"></div>\n",
    "\n",
    "<p>Intégrales de Fresnel.</p>\n",
    "<img src=\"imgs/Fresnel.png\" width=500>\n",
    "\n",
    "<!-- end figure -->"
   ]
  }
 ],
 "metadata": {
  "kernelspec": {
   "display_name": "Python 3",
   "language": "python",
   "name": "python3"
  },
  "language_info": {
   "codemirror_mode": {
    "name": "ipython",
    "version": 3
   },
   "file_extension": ".py",
   "mimetype": "text/x-python",
   "name": "python",
   "nbconvert_exporter": "python",
   "pygments_lexer": "ipython3",
   "version": "3.6.6"
  }
 },
 "nbformat": 4,
 "nbformat_minor": 2
}
